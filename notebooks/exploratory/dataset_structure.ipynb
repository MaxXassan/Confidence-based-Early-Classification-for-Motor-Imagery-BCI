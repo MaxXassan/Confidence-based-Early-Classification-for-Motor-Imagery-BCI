{
 "cells": [
  {
   "cell_type": "code",
   "execution_count": 1,
   "metadata": {},
   "outputs": [
    {
     "name": "stderr",
     "output_type": "stream",
     "text": [
      "<frozen importlib._bootstrap>:241: FutureWarning: mne.io.pick.pick_types is deprecated will be removed in 1.6, use documented public API instead. If no appropriate public API exists, please open an issue on GitHub.\n",
      "<frozen importlib._bootstrap>:241: FutureWarning: mne.io.pick.pick_channels_regexp is deprecated will be removed in 1.6, use documented public API instead. If no appropriate public API exists, please open an issue on GitHub.\n",
      "<frozen importlib._bootstrap>:241: FutureWarning: mne.io.pick.channel_type is deprecated will be removed in 1.6, use documented public API instead. If no appropriate public API exists, please open an issue on GitHub.\n",
      "c:\\Users\\Eier\\miniconda3\\envs\\mne\\Lib\\site-packages\\moabb\\pipelines\\__init__.py:26: ModuleNotFoundError: Tensorflow is not installed. You won't be able to use these MOABB pipelines if you attempt to do so.\n",
      "  warn(\n",
      "Choosing from all possible events\n"
     ]
    },
    {
     "name": "stdout",
     "output_type": "stream",
     "text": [
      "To use the get_shape_from_baseconcar, InputShapeSetterEEG, BraindecodeDatasetLoaderyou need to install `braindecode`.`pip install braindecode` or Please refer to `https://braindecode.org`.\n",
      "Subject ID: 1\n",
      "Session ID: 0train\n",
      "Run ID: 0\n",
      "Raw data information:\n",
      "<RawArray | 26 x 96735 (386.9 s), ~19.2 MB, data loaded>\n",
      "Run ID: 1\n",
      "Raw data information:\n",
      "<RawArray | 26 x 96735 (386.9 s), ~19.2 MB, data loaded>\n",
      "Run ID: 2\n",
      "Raw data information:\n",
      "<RawArray | 26 x 96735 (386.9 s), ~19.2 MB, data loaded>\n",
      "Run ID: 3\n",
      "Raw data information:\n",
      "<RawArray | 26 x 96735 (386.9 s), ~19.2 MB, data loaded>\n",
      "Run ID: 4\n",
      "Raw data information:\n",
      "<RawArray | 26 x 96735 (386.9 s), ~19.2 MB, data loaded>\n",
      "Run ID: 5\n",
      "Raw data information:\n",
      "<RawArray | 26 x 96735 (386.9 s), ~19.2 MB, data loaded>\n",
      "Session ID: 1test\n",
      "Run ID: 0\n",
      "Raw data information:\n",
      "<RawArray | 26 x 96735 (386.9 s), ~19.2 MB, data loaded>\n",
      "Run ID: 1\n",
      "Raw data information:\n",
      "<RawArray | 26 x 96735 (386.9 s), ~19.2 MB, data loaded>\n",
      "Run ID: 2\n",
      "Raw data information:\n",
      "<RawArray | 26 x 96735 (386.9 s), ~19.2 MB, data loaded>\n",
      "Run ID: 3\n",
      "Raw data information:\n",
      "<RawArray | 26 x 96735 (386.9 s), ~19.2 MB, data loaded>\n",
      "Run ID: 4\n",
      "Raw data information:\n",
      "<RawArray | 26 x 96735 (386.9 s), ~19.2 MB, data loaded>\n",
      "Run ID: 5\n",
      "Raw data information:\n",
      "<RawArray | 26 x 96735 (386.9 s), ~19.2 MB, data loaded>\n"
     ]
    }
   ],
   "source": [
    "#Dataset structure\n",
    "from moabb.datasets import BNCI2014_001\n",
    "from moabb.paradigms import MotorImagery\n",
    "\n",
    "dataset = BNCI2014_001()\n",
    "paradigm = MotorImagery()\n",
    "\n",
    "subjects = [1]  \n",
    "data = dataset.get_data(subjects=subjects)\n",
    "\n",
    "for subject_id, sessions in data.items():\n",
    "    print(f\"Subject ID: {subject_id}\")\n",
    "    \n",
    "    for session_id, runs in sessions.items():\n",
    "        print(f\"Session ID: {session_id}\")\n",
    "        \n",
    "        for run_id, run_data in runs.items():\n",
    "            print(f\"Run ID: {run_id}\")\n",
    "\n",
    "            raw_data = run_data\n",
    "            \n",
    "            print(\"Raw data information:\")\n",
    "            print(raw_data)\n"
   ]
  },
  {
   "cell_type": "code",
   "execution_count": 3,
   "metadata": {},
   "outputs": [
    {
     "name": "stdout",
     "output_type": "stream",
     "text": [
      "Adding metadata with 3 columns\n",
      "Adding metadata with 3 columns\n",
      "Adding metadata with 3 columns\n",
      "Adding metadata with 3 columns\n",
      "Adding metadata with 3 columns\n",
      "Adding metadata with 3 columns\n",
      "Adding metadata with 3 columns\n",
      "Adding metadata with 3 columns\n",
      "Adding metadata with 3 columns\n",
      "Adding metadata with 3 columns\n",
      "Adding metadata with 3 columns\n",
      "Adding metadata with 3 columns\n",
      "Adding metadata with 3 columns\n",
      "576 matching events found\n",
      "No baseline correction applied\n",
      "[[    250       0       4]\n",
      " [   2253       0       3]\n",
      " [   4171       0       2]\n",
      " ...\n",
      " [1176911       0       3]\n",
      " [1179025       0       1]\n",
      " [1181084       0       3]]\n",
      "{'left_hand': 1, 'right_hand': 2, 'feet': 3, 'tongue': 4}\n",
      "2.0 6.0\n",
      "<EpochsArray |  576 events (all good), 2 – 6 s, baseline off, ~96.8 MB, data loaded, with metadata,\n",
      " 'left_hand': 144\n",
      " 'right_hand': 144\n",
      " 'feet': 144\n",
      " 'tongue': 144>\n"
     ]
    },
    {
     "name": "stderr",
     "output_type": "stream",
     "text": [
      "c:\\Users\\Eier\\miniconda3\\envs\\mne\\Lib\\site-packages\\moabb\\paradigms\\base.py:354: RuntimeWarning: Concatenation of Annotations within Epochs is not supported yet. All annotations will be dropped.\n",
      "  X = mne.concatenate_epochs(X)\n"
     ]
    }
   ],
   "source": [
    "subject_list = [1]\n",
    "epochs, labels, meta = paradigm.get_data( \n",
    "    dataset=dataset, subjects=subject_list, return_epochs=True\n",
    ")\n",
    "print(epochs.events)\n",
    "print(epochs.event_id)\n",
    "print(epochs.tmin, epochs.tmax)\n",
    "print(epochs)"
   ]
  }
 ],
 "metadata": {
  "kernelspec": {
   "display_name": "mne",
   "language": "python",
   "name": "python3"
  },
  "language_info": {
   "codemirror_mode": {
    "name": "ipython",
    "version": 3
   },
   "file_extension": ".py",
   "mimetype": "text/x-python",
   "name": "python",
   "nbconvert_exporter": "python",
   "pygments_lexer": "ipython3",
   "version": "3.11.0"
  }
 },
 "nbformat": 4,
 "nbformat_minor": 2
}
